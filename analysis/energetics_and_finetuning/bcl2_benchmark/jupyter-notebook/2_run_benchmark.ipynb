{
 "cells": [
  {
   "cell_type": "code",
   "execution_count": 1,
   "metadata": {},
   "outputs": [
    {
     "name": "stdout",
     "output_type": "stream",
     "text": [
      "Populating the interactive namespace from numpy and matplotlib\n"
     ]
    }
   ],
   "source": [
    "import pandas as pd\n",
    "import pickle\n",
    "import numpy as np\n",
    "from scipy.stats import rankdata\n",
    "from sklearn import metrics\n",
    "import seaborn as sns\n",
    "%pylab inline\n",
    "%matplotlib inline"
   ]
  },
  {
   "cell_type": "code",
   "execution_count": 2,
   "metadata": {
    "collapsed": true
   },
   "outputs": [],
   "source": [
    "PepBindEnerDF = pickle.load( open(\"../computed_data/PepBindEnerDF.pickle\",\"rb\"))"
   ]
  },
  {
   "cell_type": "code",
   "execution_count": 22,
   "metadata": {
    "scrolled": true
   },
   "outputs": [
    {
     "name": "stdout",
     "output_type": "stream",
     "text": [
      "B2CL1_SORTCERY\n",
      "B2CL1_HUMAN_1G5J_A 0.30700946310453425\n",
      "B2CL1_HUMAN_2M04_A 0.21044373451596146\n",
      "B2CL1_HUMAN_2P1L_A 0.2618554575599283\n",
      "B2CL1_HUMAN_2P1L_C 0.25715351855606317\n",
      "B2CL1_HUMAN_2P1L_E 0.1738928317756219\n",
      "B2CL1_HUMAN_2P1L_G 0.25981163060654433\n",
      "B2CL1_HUMAN_2PON_B 0.016581647045506687\n",
      "B2CL1_HUMAN_3FDL_A 0.27740084587835334\n",
      "B2CL1_HUMAN_3IO8_A 0.27140667522466555\n",
      "B2CL1_HUMAN_3PL7_A 0.07740224628349601\n",
      "B2CL1_HUMAN_4CIN_A 0.13697638785776747\n",
      "B2CL1_HUMAN_4HNJ_A 0.17389331778422945\n",
      "B2CL1_HUMAN_4QVE_A 0.18671859114772746\n",
      "B2CL1_HUMAN_4QVF_A 0.06527584446005055\n",
      "B2CL1_HUMAN_5FMK_A -0.005560686649751436\n",
      "B2CL1_HUMAN_MIN 0.1433576512966144\n",
      "MCL1_SORTCERY\n",
      "MCL1_HUMAN_2KBW_A 0.40388417707639074\n",
      "MCL1_HUMAN_2NL9_A 0.5136615411952589\n",
      "MCL1_HUMAN_2PQK_A 0.5531738522199251\n",
      "MCL1_HUMAN_3D7V_A 0.5580329843123477\n",
      "MCL1_HUMAN_3IO9_A 0.5930463349991472\n",
      "MCL1_HUMAN_3KJ0_A 0.46786844386557397\n",
      "MCL1_HUMAN_3KJ1_A 0.5324887303173116\n",
      "MCL1_HUMAN_3KJ2_A 0.5465888544575505\n",
      "MCL1_HUMAN_3KZ0_A 0.5346482184471739\n",
      "MCL1_HUMAN_3KZ0_B 0.5279471997839753\n",
      "MCL1_HUMAN_3PK1_A 0.4232566507977315\n",
      "MCL1_HUMAN_3PK1_C 0.4497087600378929\n",
      "MCL1_HUMAN_5C6H_A 0.5501513096872449\n",
      "MCL1_HUMAN_5C6H_C 0.39971096306558457\n",
      "MCL1_HUMAN_5C6H_E 0.3764218924551961\n",
      "MCL1_HUMAN_5C6H_G 0.44026286658392344\n",
      "MCL1_HUMAN_5C6H_I 0.38449979168218046\n",
      "MCL1_HUMAN_5C6H_K 0.4423519272813689\n",
      "MCL1_HUMAN_5C6H_M 0.4671219599201888\n",
      "MCL1_HUMAN_5C6H_O 0.46275047892348736\n",
      "MCL1_HUMAN_5C6H_Q 0.43143794401031943\n",
      "MCL1_HUMAN_5C6H_U 0.46552486675671784\n",
      "MCL1_HUMAN_5C6H_W 0.42042411511786487\n",
      "MCL1_HUMAN_5UUM_A 0.1029081804011316\n",
      "MCL1_HUMAN_5UUM_B 0.14942625519559707\n",
      "MCL1_HUMAN_MIN 0.5090298578913082\n",
      "B2LA1_SORTCERY\n",
      "B2LA1_HUMAN_2VM6_A 0.3462067412038918\n",
      "B2LA1_HUMAN_3MQP_A 0.347291302787796\n",
      "B2LA1_HUMAN_4ZEQ_A 0.4533678315535308\n",
      "B2LA1_HUMAN_5UUK_A 0.22426654956984832\n",
      "B2LA1_HUMAN_5UUL_A 0.2243229678916052\n",
      "B2LA1_HUMAN_5UUP_A 0.3794887501410228\n",
      "B2LA1_HUMAN_MIN 0.3253725641831368\n"
     ]
    }
   ],
   "source": [
    "#New name\n",
    "NameTest = [\"B2CL1_SORTCERY\",\"MCL1_SORTCERY\",\"B2LA1_SORTCERY\"]\n",
    "\n",
    "\n",
    "#Get Correlation and AUC\n",
    "\n",
    "#Dict with metric\n",
    "ModCor = dict()\n",
    "ModAUC = dict()\n",
    "ModEnr = dict()\n",
    "ModProtAUC = dict()\n",
    "\n",
    "for bench in NameTest:\n",
    "    print(bench)\n",
    "    ExpRec = bench.split(\"_\")[0]\n",
    "    #Get bench\n",
    "    OnlyBench = PepBindEnerDF.dropna(subset=[bench])\n",
    "    \n",
    "    #Get Binary\n",
    "    binary_bench = \"binary_\"+bench\n",
    "    BinaryOnlyBench = PepBindEnerDF.dropna(subset=[binary_bench])\n",
    "    for template in list(PepBindEnerDF.columns):\n",
    "        if template == bench:continue\n",
    "        #Need to be same receptor\n",
    "        TempRec = template.split(\"_\")[0]\n",
    "        if TempRec != ExpRec:\n",
    "            continue\n",
    "            \n",
    "        #Get PDB and model name\n",
    "        sp = template.split(\"_\")\n",
    "        mod = sp[-1]\n",
    "        pdb = \"_\".join(sp[:4])\n",
    "        if \"MIN\" in template:\n",
    "            pdb = \"_\".join(sp[:3])\n",
    "        \n",
    "        #Get data\n",
    "        subdf = OnlyBench.dropna(subset=[template]).sort_values(by=template)\n",
    "        Pred = subdf[template].values\n",
    "        Exp = subdf[bench].values\n",
    "        \n",
    "        #Pearson product-moment correlation coefficients\n",
    "        cor =  np.corrcoef(Pred,Exp)[0][1]\n",
    "        \n",
    "        \n",
    "        #Get Enrich\n",
    "        topbind = rankdata(Exp) < len(Exp) / 10\n",
    "        enrich = np.sum(topbind[:len(Exp)//10])/(len(Exp)/10.0)*100\n",
    "\n",
    "        #Get resolved data\n",
    "        Binarysubdf = BinaryOnlyBench.dropna(subset=[template])\n",
    "        BinaryPred = Binarysubdf[template].values\n",
    "        BinaryExp = Binarysubdf[binary_bench].values\n",
    "        #if \"MIN\" in template:\n",
    "        #if len(Binarysubdf) != len(BinaryOnlyBench):\n",
    "        #    print(template,mod,len(Binarysubdf),len(BinaryOnlyBench),len(subdf),len(OnlyBench))\n",
    "\n",
    "        fpr, tpr, thresholds = metrics.roc_curve(BinaryExp > 0.5, -BinaryPred, pos_label=True)\n",
    "        auc = metrics.auc(fpr, tpr)\n",
    "        \n",
    "        \n",
    "        #Store info\n",
    "        if mod not in ModCor:\n",
    "            ModCor[mod] = dict()\n",
    "            ModAUC[mod] = dict()\n",
    "            ModEnr[mod] = dict()\n",
    "            ModProtAUC[mod] = dict()\n",
    "        \n",
    "        ModCor[mod][pdb] = cor\n",
    "        ModAUC[mod][pdb] = auc\n",
    "        ModEnr[mod][pdb] = enrich\n",
    "        \n",
    "        #Protoeme bench\n",
    "        protbench = \"binary_\"+bench.split(\"_\")[0]+\"_Proteome\"\n",
    "        protbenchDF = PepBindEnerDF.dropna(subset=[protbench])\n",
    "        subdfProt = protbenchDF.dropna(subset=[template]).sort_values(by=template)\n",
    "        if len(subdfProt) > 10:\n",
    "            #if \"C35\" in template:\n",
    "            #    die\n",
    "            fpr, tpr, thresholds = metrics.roc_curve(subdfProt[protbench] > 0.5, -subdfProt[template], pos_label=True)\n",
    "            aucprot = metrics.auc(fpr, tpr)\n",
    "            ModProtAUC[mod][pdb] = aucprot\n",
    "        \n",
    "        #if \"FoldX\" in template:\n",
    "        #    print(mod,pdb,len(subdf),len(OnlyBench),cor,auc,enrich,aucprot)\n",
    "        continue\n",
    "        if \"MIN\" in template:\n",
    "            plt.scatter(Pred,Exp,s=1)\n",
    "            plt.scatter(Pred[topbind==True],Exp[topbind==True],s=1)\n",
    "            plt.ylabel(bench)\n",
    "            plt.xlabel(template)\n",
    "            plt.title(\"%.2f %.2f\" % (cor,auc))\n",
    "            plt.show()\n"
   ]
  },
  {
   "cell_type": "code",
   "execution_count": 4,
   "metadata": {
    "collapsed": true
   },
   "outputs": [],
   "source": [
    "ModProtAUCDF = pd.DataFrame(ModProtAUC)\n",
    "for recep in [\"B2CL1\",\"MCL1\",\"B2LA1\"]:\n",
    "    subdf = ModProtAUCDF.filter(regex=recep+\"_HUMAN_...._.\",axis=0)\n",
    "    trans = ModProtAUCDF.transpose()\n",
    "    trans[recep+\"_HUMAN_MEAN\"] = subdf.mean()\n",
    "    ModProtAUCDF = trans.transpose()"
   ]
  },
  {
   "cell_type": "code",
   "execution_count": 5,
   "metadata": {},
   "outputs": [
    {
     "data": {
      "text/html": [
       "<div>\n",
       "<style scoped>\n",
       "    .dataframe tbody tr th:only-of-type {\n",
       "        vertical-align: middle;\n",
       "    }\n",
       "\n",
       "    .dataframe tbody tr th {\n",
       "        vertical-align: top;\n",
       "    }\n",
       "\n",
       "    .dataframe thead th {\n",
       "        text-align: right;\n",
       "    }\n",
       "</style>\n",
       "<table border=\"1\" class=\"dataframe\">\n",
       "  <thead>\n",
       "    <tr style=\"text-align: right;\">\n",
       "      <th></th>\n",
       "      <th>RosettaTalarisPose</th>\n",
       "      <th>RosettabetaPose</th>\n",
       "      <th>RosettaTalarisInterfacedGseparated</th>\n",
       "      <th>RosettabetaInterfacedGcross</th>\n",
       "      <th>FoldX</th>\n",
       "      <th>RosettabetaInterfacedGseparated</th>\n",
       "      <th>RosettaTalarisInterfacedGcross</th>\n",
       "      <th>dTERMenC35</th>\n",
       "    </tr>\n",
       "  </thead>\n",
       "  <tbody>\n",
       "    <tr>\n",
       "      <th>B2CL1_HUMAN_MIN</th>\n",
       "      <td>0.686275</td>\n",
       "      <td>0.787582</td>\n",
       "      <td>0.692810</td>\n",
       "      <td>0.679739</td>\n",
       "      <td>0.689542</td>\n",
       "      <td>0.679739</td>\n",
       "      <td>0.725490</td>\n",
       "      <td>0.578431</td>\n",
       "    </tr>\n",
       "    <tr>\n",
       "      <th>MCL1_HUMAN_MIN</th>\n",
       "      <td>0.700535</td>\n",
       "      <td>0.596257</td>\n",
       "      <td>0.604278</td>\n",
       "      <td>0.585561</td>\n",
       "      <td>0.620321</td>\n",
       "      <td>0.585561</td>\n",
       "      <td>0.582888</td>\n",
       "      <td>0.622995</td>\n",
       "    </tr>\n",
       "    <tr>\n",
       "      <th>B2LA1_HUMAN_MIN</th>\n",
       "      <td>0.756272</td>\n",
       "      <td>0.612903</td>\n",
       "      <td>0.806452</td>\n",
       "      <td>0.924731</td>\n",
       "      <td>0.931900</td>\n",
       "      <td>0.924731</td>\n",
       "      <td>0.810036</td>\n",
       "      <td>0.856631</td>\n",
       "    </tr>\n",
       "    <tr>\n",
       "      <th>B2CL1_HUMAN_MEAN</th>\n",
       "      <td>0.591042</td>\n",
       "      <td>0.588812</td>\n",
       "      <td>0.728592</td>\n",
       "      <td>0.692311</td>\n",
       "      <td>0.661361</td>\n",
       "      <td>0.692772</td>\n",
       "      <td>0.726682</td>\n",
       "      <td>0.636819</td>\n",
       "    </tr>\n",
       "    <tr>\n",
       "      <th>MCL1_HUMAN_MEAN</th>\n",
       "      <td>0.611961</td>\n",
       "      <td>0.610943</td>\n",
       "      <td>0.581936</td>\n",
       "      <td>0.617070</td>\n",
       "      <td>0.616977</td>\n",
       "      <td>0.617070</td>\n",
       "      <td>0.574707</td>\n",
       "      <td>0.612620</td>\n",
       "    </tr>\n",
       "    <tr>\n",
       "      <th>B2LA1_HUMAN_MEAN</th>\n",
       "      <td>0.708483</td>\n",
       "      <td>0.617309</td>\n",
       "      <td>0.750373</td>\n",
       "      <td>0.843190</td>\n",
       "      <td>0.869661</td>\n",
       "      <td>0.843190</td>\n",
       "      <td>0.750747</td>\n",
       "      <td>0.769415</td>\n",
       "    </tr>\n",
       "  </tbody>\n",
       "</table>\n",
       "</div>"
      ],
      "text/plain": [
       "                  RosettaTalarisPose  RosettabetaPose  \\\n",
       "B2CL1_HUMAN_MIN             0.686275         0.787582   \n",
       "MCL1_HUMAN_MIN              0.700535         0.596257   \n",
       "B2LA1_HUMAN_MIN             0.756272         0.612903   \n",
       "B2CL1_HUMAN_MEAN            0.591042         0.588812   \n",
       "MCL1_HUMAN_MEAN             0.611961         0.610943   \n",
       "B2LA1_HUMAN_MEAN            0.708483         0.617309   \n",
       "\n",
       "                  RosettaTalarisInterfacedGseparated  \\\n",
       "B2CL1_HUMAN_MIN                             0.692810   \n",
       "MCL1_HUMAN_MIN                              0.604278   \n",
       "B2LA1_HUMAN_MIN                             0.806452   \n",
       "B2CL1_HUMAN_MEAN                            0.728592   \n",
       "MCL1_HUMAN_MEAN                             0.581936   \n",
       "B2LA1_HUMAN_MEAN                            0.750373   \n",
       "\n",
       "                  RosettabetaInterfacedGcross     FoldX  \\\n",
       "B2CL1_HUMAN_MIN                      0.679739  0.689542   \n",
       "MCL1_HUMAN_MIN                       0.585561  0.620321   \n",
       "B2LA1_HUMAN_MIN                      0.924731  0.931900   \n",
       "B2CL1_HUMAN_MEAN                     0.692311  0.661361   \n",
       "MCL1_HUMAN_MEAN                      0.617070  0.616977   \n",
       "B2LA1_HUMAN_MEAN                     0.843190  0.869661   \n",
       "\n",
       "                  RosettabetaInterfacedGseparated  \\\n",
       "B2CL1_HUMAN_MIN                          0.679739   \n",
       "MCL1_HUMAN_MIN                           0.585561   \n",
       "B2LA1_HUMAN_MIN                          0.924731   \n",
       "B2CL1_HUMAN_MEAN                         0.692772   \n",
       "MCL1_HUMAN_MEAN                          0.617070   \n",
       "B2LA1_HUMAN_MEAN                         0.843190   \n",
       "\n",
       "                  RosettaTalarisInterfacedGcross  dTERMenC35  \n",
       "B2CL1_HUMAN_MIN                         0.725490    0.578431  \n",
       "MCL1_HUMAN_MIN                          0.582888    0.622995  \n",
       "B2LA1_HUMAN_MIN                         0.810036    0.856631  \n",
       "B2CL1_HUMAN_MEAN                        0.726682    0.636819  \n",
       "MCL1_HUMAN_MEAN                         0.574707    0.612620  \n",
       "B2LA1_HUMAN_MEAN                        0.750747    0.769415  "
      ]
     },
     "execution_count": 5,
     "metadata": {},
     "output_type": "execute_result"
    }
   ],
   "source": [
    "ModProtAUCDF.filter(regex=\"_M..\",axis=0)"
   ]
  },
  {
   "cell_type": "code",
   "execution_count": 6,
   "metadata": {
    "collapsed": true
   },
   "outputs": [],
   "source": [
    "subdf = ModProtAUCDF.filter(regex=\"_M..\",axis=0)[[\"FoldX\",\"RosettabetaInterfacedGseparated\",\"dTERMenC35\"]]"
   ]
  },
  {
   "cell_type": "code",
   "execution_count": 7,
   "metadata": {},
   "outputs": [
    {
     "data": {
      "text/html": [
       "<div>\n",
       "<style scoped>\n",
       "    .dataframe tbody tr th:only-of-type {\n",
       "        vertical-align: middle;\n",
       "    }\n",
       "\n",
       "    .dataframe tbody tr th {\n",
       "        vertical-align: top;\n",
       "    }\n",
       "\n",
       "    .dataframe thead th {\n",
       "        text-align: right;\n",
       "    }\n",
       "</style>\n",
       "<table border=\"1\" class=\"dataframe\">\n",
       "  <thead>\n",
       "    <tr style=\"text-align: right;\">\n",
       "      <th></th>\n",
       "      <th>FoldX</th>\n",
       "      <th>RosettabetaInterfacedGseparated</th>\n",
       "      <th>dTERMenC35</th>\n",
       "    </tr>\n",
       "  </thead>\n",
       "  <tbody>\n",
       "    <tr>\n",
       "      <th>B2CL1_HUMAN_MEAN</th>\n",
       "      <td>0.661361</td>\n",
       "      <td>0.692772</td>\n",
       "      <td>0.636819</td>\n",
       "    </tr>\n",
       "    <tr>\n",
       "      <th>B2CL1_HUMAN_MIN</th>\n",
       "      <td>0.689542</td>\n",
       "      <td>0.679739</td>\n",
       "      <td>0.578431</td>\n",
       "    </tr>\n",
       "    <tr>\n",
       "      <th>B2LA1_HUMAN_MEAN</th>\n",
       "      <td>0.869661</td>\n",
       "      <td>0.843190</td>\n",
       "      <td>0.769415</td>\n",
       "    </tr>\n",
       "    <tr>\n",
       "      <th>B2LA1_HUMAN_MIN</th>\n",
       "      <td>0.931900</td>\n",
       "      <td>0.924731</td>\n",
       "      <td>0.856631</td>\n",
       "    </tr>\n",
       "    <tr>\n",
       "      <th>MCL1_HUMAN_MEAN</th>\n",
       "      <td>0.616977</td>\n",
       "      <td>0.617070</td>\n",
       "      <td>0.612620</td>\n",
       "    </tr>\n",
       "    <tr>\n",
       "      <th>MCL1_HUMAN_MIN</th>\n",
       "      <td>0.620321</td>\n",
       "      <td>0.585561</td>\n",
       "      <td>0.622995</td>\n",
       "    </tr>\n",
       "  </tbody>\n",
       "</table>\n",
       "</div>"
      ],
      "text/plain": [
       "                     FoldX  RosettabetaInterfacedGseparated  dTERMenC35\n",
       "B2CL1_HUMAN_MEAN  0.661361                         0.692772    0.636819\n",
       "B2CL1_HUMAN_MIN   0.689542                         0.679739    0.578431\n",
       "B2LA1_HUMAN_MEAN  0.869661                         0.843190    0.769415\n",
       "B2LA1_HUMAN_MIN   0.931900                         0.924731    0.856631\n",
       "MCL1_HUMAN_MEAN   0.616977                         0.617070    0.612620\n",
       "MCL1_HUMAN_MIN    0.620321                         0.585561    0.622995"
      ]
     },
     "execution_count": 7,
     "metadata": {},
     "output_type": "execute_result"
    }
   ],
   "source": [
    "subdf.sort_index()"
   ]
  },
  {
   "cell_type": "code",
   "execution_count": 8,
   "metadata": {
    "collapsed": true
   },
   "outputs": [],
   "source": [
    "min_mean = subdf.filter(regex=\"_MIN\",axis=0).mean()\n",
    "mean_mean = subdf.filter(regex=\"_MEAN\",axis=0).mean()\n",
    "\n",
    "subdf = subdf.transpose()\n",
    "subdf[\"ALL_MIN\"] = min_mean\n",
    "subdf[\"ALL_MEAN\"] = mean_mean\n",
    "subdf = subdf.transpose()"
   ]
  },
  {
   "cell_type": "code",
   "execution_count": 9,
   "metadata": {},
   "outputs": [
    {
     "data": {
      "text/html": [
       "<div>\n",
       "<style scoped>\n",
       "    .dataframe tbody tr th:only-of-type {\n",
       "        vertical-align: middle;\n",
       "    }\n",
       "\n",
       "    .dataframe tbody tr th {\n",
       "        vertical-align: top;\n",
       "    }\n",
       "\n",
       "    .dataframe thead th {\n",
       "        text-align: right;\n",
       "    }\n",
       "</style>\n",
       "<table border=\"1\" class=\"dataframe\">\n",
       "  <thead>\n",
       "    <tr style=\"text-align: right;\">\n",
       "      <th></th>\n",
       "      <th>FoldX</th>\n",
       "      <th>RosettabetaInterfacedGseparated</th>\n",
       "      <th>dTERMenC35</th>\n",
       "    </tr>\n",
       "  </thead>\n",
       "  <tbody>\n",
       "    <tr>\n",
       "      <th>ALL_MEAN</th>\n",
       "      <td>0.716000</td>\n",
       "      <td>0.717677</td>\n",
       "      <td>0.672951</td>\n",
       "    </tr>\n",
       "    <tr>\n",
       "      <th>ALL_MIN</th>\n",
       "      <td>0.747254</td>\n",
       "      <td>0.730010</td>\n",
       "      <td>0.686019</td>\n",
       "    </tr>\n",
       "    <tr>\n",
       "      <th>B2CL1_HUMAN_MEAN</th>\n",
       "      <td>0.661361</td>\n",
       "      <td>0.692772</td>\n",
       "      <td>0.636819</td>\n",
       "    </tr>\n",
       "    <tr>\n",
       "      <th>B2CL1_HUMAN_MIN</th>\n",
       "      <td>0.689542</td>\n",
       "      <td>0.679739</td>\n",
       "      <td>0.578431</td>\n",
       "    </tr>\n",
       "    <tr>\n",
       "      <th>B2LA1_HUMAN_MEAN</th>\n",
       "      <td>0.869661</td>\n",
       "      <td>0.843190</td>\n",
       "      <td>0.769415</td>\n",
       "    </tr>\n",
       "    <tr>\n",
       "      <th>B2LA1_HUMAN_MIN</th>\n",
       "      <td>0.931900</td>\n",
       "      <td>0.924731</td>\n",
       "      <td>0.856631</td>\n",
       "    </tr>\n",
       "    <tr>\n",
       "      <th>MCL1_HUMAN_MEAN</th>\n",
       "      <td>0.616977</td>\n",
       "      <td>0.617070</td>\n",
       "      <td>0.612620</td>\n",
       "    </tr>\n",
       "    <tr>\n",
       "      <th>MCL1_HUMAN_MIN</th>\n",
       "      <td>0.620321</td>\n",
       "      <td>0.585561</td>\n",
       "      <td>0.622995</td>\n",
       "    </tr>\n",
       "  </tbody>\n",
       "</table>\n",
       "</div>"
      ],
      "text/plain": [
       "                     FoldX  RosettabetaInterfacedGseparated  dTERMenC35\n",
       "ALL_MEAN          0.716000                         0.717677    0.672951\n",
       "ALL_MIN           0.747254                         0.730010    0.686019\n",
       "B2CL1_HUMAN_MEAN  0.661361                         0.692772    0.636819\n",
       "B2CL1_HUMAN_MIN   0.689542                         0.679739    0.578431\n",
       "B2LA1_HUMAN_MEAN  0.869661                         0.843190    0.769415\n",
       "B2LA1_HUMAN_MIN   0.931900                         0.924731    0.856631\n",
       "MCL1_HUMAN_MEAN   0.616977                         0.617070    0.612620\n",
       "MCL1_HUMAN_MIN    0.620321                         0.585561    0.622995"
      ]
     },
     "execution_count": 9,
     "metadata": {},
     "output_type": "execute_result"
    }
   ],
   "source": [
    "subdf.sort_index()"
   ]
  },
  {
   "cell_type": "code",
   "execution_count": 10,
   "metadata": {},
   "outputs": [
    {
     "name": "stdout",
     "output_type": "stream",
     "text": [
      "(1872, 1770)\n",
      "(1855, 1698)\n",
      "(1686, 1543)\n"
     ]
    }
   ],
   "source": [
    "for bench in NameTest:\n",
    "    binary_bench = \"binary_\"+bench\n",
    "    BinaryOnlyBench = PepBindEnerDF.dropna(subset=[binary_bench])[[binary_bench,bench]]\n",
    "    print((len(BinaryOnlyBench),len(BinaryOnlyBench.dropna(axis=0))))\n",
    "    #print(BinaryOnlyBench[[binary_bench,bench]].sort_values(by=[binary_bench,binary_bench]).head())\n",
    "    "
   ]
  },
  {
   "cell_type": "code",
   "execution_count": 11,
   "metadata": {},
   "outputs": [
    {
     "name": "stdout",
     "output_type": "stream",
     "text": [
      "('B2CL1_SORTCERY', 4488)\n",
      "('MCL1_SORTCERY', 4648)\n",
      "('B2LA1_SORTCERY', 3948)\n"
     ]
    }
   ],
   "source": [
    "for bench in NameTest:\n",
    "    binary_bench = \"binary_\"+bench\n",
    "    BinaryOnlyBench = PepBindEnerDF.dropna(subset=[binary_bench,bench],how=\"all\")\n",
    "    print((bench,len(BinaryOnlyBench)))\n",
    "    #print(BinaryOnlyBench[[binary_bench,bench]].sort_values(by=[binary_bench,binary_bench]).head())\n",
    "    "
   ]
  },
  {
   "cell_type": "code",
   "execution_count": null,
   "metadata": {
    "collapsed": true
   },
   "outputs": [],
   "source": []
  },
  {
   "cell_type": "code",
   "execution_count": null,
   "metadata": {
    "collapsed": true
   },
   "outputs": [],
   "source": []
  },
  {
   "cell_type": "code",
   "execution_count": 12,
   "metadata": {
    "collapsed": true
   },
   "outputs": [],
   "source": [
    "pickle.dump(pd.DataFrame(ModCor),open(\"../computed_data/AffCor.pickle\",\"wb\"))\n",
    "pickle.dump(pd.DataFrame(ModAUC),open(\"../computed_data/AUCval.pickle\",\"wb\"))\n",
    "pickle.dump(pd.DataFrame(ModEnr),open(\"../computed_data/EnrVal.pickle\",\"wb\"))\n"
   ]
  },
  {
   "cell_type": "code",
   "execution_count": 13,
   "metadata": {
    "collapsed": true
   },
   "outputs": [],
   "source": [
    "pd.DataFrame(ModCor).to_csv(\"../computed_data/AffCor.csv\")\n",
    "pd.DataFrame(ModAUC).to_csv(\"../computed_data/AUCval.csv\")\n",
    "pd.DataFrame(ModEnr).to_csv(\"../computed_data/EnrVal.csv\")\n"
   ]
  },
  {
   "cell_type": "code",
   "execution_count": 14,
   "metadata": {
    "collapsed": true
   },
   "outputs": [],
   "source": [
    "#Merge everything\n",
    "AllConcat = dict()\n",
    "for (prefix,d) in zip([\"AUC\",\"Cor\",\"Enrich\"],[ModAUC,ModCor,ModEnr]):\n",
    "    for m in sorted(d.keys()):\n",
    "        nm = \"_\".join([prefix,m])\n",
    "        AllConcat[nm] = dict()\n",
    "        for t in d[m].keys():\n",
    "            AllConcat[nm][t] = d[m][t]\n",
    "       \n"
   ]
  },
  {
   "cell_type": "code",
   "execution_count": 15,
   "metadata": {
    "collapsed": true
   },
   "outputs": [],
   "source": [
    "import requests\n",
    "import re\n",
    "PDBinfo = dict()"
   ]
  },
  {
   "cell_type": "code",
   "execution_count": 16,
   "metadata": {},
   "outputs": [
    {
     "name": "stdout",
     "output_type": "stream",
     "text": [
      "https://files.rcsb.org/header/1G5J.pdb\n",
      "https://files.rcsb.org/header/2M04.pdb\n",
      "https://files.rcsb.org/header/2P1L.pdb\n",
      "https://files.rcsb.org/header/2P1L.pdb\n",
      "https://files.rcsb.org/header/2P1L.pdb\n",
      "https://files.rcsb.org/header/2P1L.pdb\n",
      "https://files.rcsb.org/header/2PON.pdb\n",
      "https://files.rcsb.org/header/3FDL.pdb\n",
      "https://files.rcsb.org/header/3IO8.pdb\n",
      "https://files.rcsb.org/header/3PL7.pdb\n",
      "https://files.rcsb.org/header/4CIN.pdb\n",
      "https://files.rcsb.org/header/4HNJ.pdb\n",
      "https://files.rcsb.org/header/4QVE.pdb\n",
      "https://files.rcsb.org/header/4QVF.pdb\n",
      "https://files.rcsb.org/header/5FMK.pdb\n",
      "B2CL1_HUMAN_MIN 5 I CONTINUE\n",
      "https://files.rcsb.org/header/2VM6.pdb\n",
      "https://files.rcsb.org/header/3MQP.pdb\n",
      "https://files.rcsb.org/header/4ZEQ.pdb\n",
      "https://files.rcsb.org/header/5UUK.pdb\n",
      "https://files.rcsb.org/header/5UUL.pdb\n",
      "https://files.rcsb.org/header/5UUP.pdb\n",
      "B2LA1_HUMAN_MIN 5 I CONTINUE\n",
      "https://files.rcsb.org/header/2KBW.pdb\n",
      "https://files.rcsb.org/header/2NL9.pdb\n",
      "https://files.rcsb.org/header/2PQK.pdb\n",
      "https://files.rcsb.org/header/3D7V.pdb\n",
      "https://files.rcsb.org/header/3IO9.pdb\n",
      "https://files.rcsb.org/header/3KJ0.pdb\n",
      "https://files.rcsb.org/header/3KJ1.pdb\n",
      "https://files.rcsb.org/header/3KJ2.pdb\n",
      "https://files.rcsb.org/header/3KZ0.pdb\n",
      "https://files.rcsb.org/header/3KZ0.pdb\n",
      "https://files.rcsb.org/header/3PK1.pdb\n",
      "https://files.rcsb.org/header/3PK1.pdb\n",
      "https://files.rcsb.org/header/5C6H.pdb\n",
      "https://files.rcsb.org/header/5C6H.pdb\n",
      "https://files.rcsb.org/header/5C6H.pdb\n",
      "https://files.rcsb.org/header/5C6H.pdb\n",
      "https://files.rcsb.org/header/5C6H.pdb\n",
      "https://files.rcsb.org/header/5C6H.pdb\n",
      "https://files.rcsb.org/header/5C6H.pdb\n",
      "https://files.rcsb.org/header/5C6H.pdb\n",
      "https://files.rcsb.org/header/5C6H.pdb\n",
      "https://files.rcsb.org/header/5C6H.pdb\n",
      "https://files.rcsb.org/header/5C6H.pdb\n",
      "https://files.rcsb.org/header/5UUM.pdb\n",
      "https://files.rcsb.org/header/5UUM.pdb\n",
      "MCL1_HUMAN_MIN 5 I CONTINUE\n"
     ]
    }
   ],
   "source": [
    "#Get PUBMED ID\n",
    "\n",
    "for k in sorted(AllConcat[\"AUC_FoldX\"].keys()):\n",
    "    #Get PDB id\n",
    "    pdbid = k\n",
    "    \n",
    "    #Init dict\n",
    "    if pdbid not in PDBinfo:\n",
    "        PDBinfo[pdbid] = dict()\n",
    "    PDBinfo[pdbid][\"Receptor_chain\"] = k.split(\"_\")[-1]\n",
    "    PDBinfo[pdbid][\"PDBID\"] = k.split(\"_\")[-2]\n",
    "    PDBinfo[pdbid][\"Receptor\"] = k.split(\"_\")[0]\n",
    "    #\n",
    "    if \"DOI\" in PDBinfo[pdbid]:\n",
    "        continue\n",
    "    #Get url and source\n",
    "    if len(k.split(\"_\")[-2]) != 4:\n",
    "        print(k,len(k.split(\"_\")[-2]),\"I CONTINUE\")\n",
    "        continue\n",
    "    url = \"https://files.rcsb.org/header/\"+k.split(\"_\")[-2]+\".pdb\"\n",
    "    r = requests.get(url)\n",
    "    print(url)\n",
    "    #Parse the output\n",
    "    authors = \"\"\n",
    "    title = \"\"\n",
    "    pubmedid = \"\"\n",
    "    doi = \"\"\n",
    "    resolution = -999\n",
    "    for l in r.text.split(\"\\n\"):\n",
    "        if \"JRNL\" in l[:4]:\n",
    "            ls = l[19:]\n",
    "            ls = re.sub(\"\\s+$\",\"\",ls)\n",
    "            #print(l)\n",
    "            if \"AUTH\" in l[:19]:\n",
    "                authors += ls\n",
    "            if \"TITL\" in l[:19]:\n",
    "                title += ls\n",
    "            if \"PMID\" in l[:19]:\n",
    "                pubmedid += ls\n",
    "            if \"DOI\" in l[:19]:\n",
    "                doi += ls\n",
    "        if \"REMARK   2 RESOLUTION. \" in l:\n",
    "            m = re.search(\"REMARK   2 RESOLUTION.\\s+(\\d+\\.\\d+) ANGSTROM\",l)\n",
    "            if m != None:\n",
    "                #print(l)\n",
    "                resolution = float(m.group(1))\n",
    "    \n",
    "    #Store info\n",
    "    PDBinfo[pdbid][\"DOI\"] = doi\n",
    "    PDBinfo[pdbid][\"PMID\"] = pubmedid\n",
    "    PDBinfo[pdbid][\"Title\"] = title\n",
    "    PDBinfo[pdbid][\"Authors\"] = authors\n",
    "    PDBinfo[pdbid][\"Resolution\"] = resolution\n",
    "    #break"
   ]
  },
  {
   "cell_type": "code",
   "execution_count": 17,
   "metadata": {},
   "outputs": [
    {
     "data": {
      "text/plain": [
       "dict_keys(['B2CL1_HUMAN_1G5J_A', 'B2CL1_HUMAN_2M04_A', 'B2CL1_HUMAN_2P1L_A', 'B2CL1_HUMAN_2P1L_C', 'B2CL1_HUMAN_2P1L_E', 'B2CL1_HUMAN_2P1L_G', 'B2CL1_HUMAN_2PON_B', 'B2CL1_HUMAN_3FDL_A', 'B2CL1_HUMAN_3IO8_A', 'B2CL1_HUMAN_3PL7_A', 'B2CL1_HUMAN_4CIN_A', 'B2CL1_HUMAN_4HNJ_A', 'B2CL1_HUMAN_4QVE_A', 'B2CL1_HUMAN_4QVF_A', 'B2CL1_HUMAN_5FMK_A', 'B2CL1_HUMAN_MIN', 'B2LA1_HUMAN_2VM6_A', 'B2LA1_HUMAN_3MQP_A', 'B2LA1_HUMAN_4ZEQ_A', 'B2LA1_HUMAN_5UUK_A', 'B2LA1_HUMAN_5UUL_A', 'B2LA1_HUMAN_5UUP_A', 'B2LA1_HUMAN_MIN', 'MCL1_HUMAN_2KBW_A', 'MCL1_HUMAN_2NL9_A', 'MCL1_HUMAN_2PQK_A', 'MCL1_HUMAN_3D7V_A', 'MCL1_HUMAN_3IO9_A', 'MCL1_HUMAN_3KJ0_A', 'MCL1_HUMAN_3KJ1_A', 'MCL1_HUMAN_3KJ2_A', 'MCL1_HUMAN_3KZ0_A', 'MCL1_HUMAN_3KZ0_B', 'MCL1_HUMAN_3PK1_A', 'MCL1_HUMAN_3PK1_C', 'MCL1_HUMAN_5C6H_A', 'MCL1_HUMAN_5C6H_C', 'MCL1_HUMAN_5C6H_E', 'MCL1_HUMAN_5C6H_G', 'MCL1_HUMAN_5C6H_I', 'MCL1_HUMAN_5C6H_K', 'MCL1_HUMAN_5C6H_M', 'MCL1_HUMAN_5C6H_O', 'MCL1_HUMAN_5C6H_Q', 'MCL1_HUMAN_5C6H_U', 'MCL1_HUMAN_5C6H_W', 'MCL1_HUMAN_5UUM_A', 'MCL1_HUMAN_5UUM_B', 'MCL1_HUMAN_MIN'])"
      ]
     },
     "execution_count": 17,
     "metadata": {},
     "output_type": "execute_result"
    }
   ],
   "source": [
    "PDBinfo.keys()"
   ]
  },
  {
   "cell_type": "code",
   "execution_count": 18,
   "metadata": {
    "collapsed": true
   },
   "outputs": [],
   "source": [
    "#Add to concat\n",
    "for cat in [\"Receptor\",\"PDBID\",\"Receptor_chain\",\"Resolution\",\"DOI\",\"PMID\",\"Title\",\"Authors\"]:\n",
    "    AllConcat[cat] = dict()\n",
    "    for k in PDBinfo:\n",
    "        if cat not in PDBinfo[k]:continue\n",
    "        AllConcat[cat][k] = PDBinfo[k][cat]\n",
    "        #print(k)\n",
    "        "
   ]
  },
  {
   "cell_type": "code",
   "execution_count": 19,
   "metadata": {
    "collapsed": true
   },
   "outputs": [],
   "source": [
    "AllConcatDF = pd.DataFrame(AllConcat)\n",
    "AllConcatDFCol = [\"Receptor\",\"PDBID\",\"Receptor_chain\",\"Resolution\",\"DOI\",\"PMID\",\"Title\",\"Authors\"]\n",
    "for reg in [\"AUC_\",\"Cor_\",\"Enrich_\"]:\n",
    "    AllConcatDFCol +=  list(AllConcatDF.filter(regex=reg).columns)\n",
    "#Check if all present\n",
    "for c in AllConcatDF.columns:\n",
    "    if c not in AllConcatDFCol:\n",
    "        print(c)\n",
    "AllConcatDF = AllConcatDF[AllConcatDFCol]"
   ]
  },
  {
   "cell_type": "code",
   "execution_count": 20,
   "metadata": {
    "collapsed": true,
    "scrolled": false
   },
   "outputs": [],
   "source": [
    "AllConcatDF = AllConcatDF.sort_values(by=[\"Receptor\",\"PDBID\",\"Receptor_chain\"])"
   ]
  },
  {
   "cell_type": "code",
   "execution_count": 21,
   "metadata": {},
   "outputs": [],
   "source": [
    "AllConcatDF.to_csv(\"../computed_data/ConcatBench.csv\")\n",
    "# AllConcatDF.to_csv(\"../Figures//Supp_table_1_ConcatBench.csv\")\n",
    "AllConcatDF.to_pickle(\"../computed_data/ConcatBench.pk\")"
   ]
  },
  {
   "cell_type": "code",
   "execution_count": null,
   "metadata": {
    "collapsed": true
   },
   "outputs": [],
   "source": []
  }
 ],
 "metadata": {
  "interpreter": {
   "hash": "04635d289a519a1410467dd0afb0db42f9184808881ca68b2eb5a687a20a5a94"
  },
  "kernelspec": {
   "display_name": "Python 3.7.4 64-bit",
   "name": "python3"
  },
  "language_info": {
   "codemirror_mode": {
    "name": "ipython",
    "version": 3
   },
   "file_extension": ".py",
   "mimetype": "text/x-python",
   "name": "python",
   "nbconvert_exporter": "python",
   "pygments_lexer": "ipython3",
   "version": "3.7.4"
  }
 },
 "nbformat": 4,
 "nbformat_minor": 2
}
